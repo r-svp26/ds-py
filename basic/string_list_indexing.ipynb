{
 "cells": [
  {
   "cell_type": "code",
   "execution_count": 2,
   "id": "26ae1e14-a432-4f0e-a498-ecf522aedc7f",
   "metadata": {},
   "outputs": [],
   "source": [
    "s = \"ritesh\""
   ]
  },
  {
   "cell_type": "code",
   "execution_count": 3,
   "id": "a4875c3b-f434-4368-9e5e-664f5c3c6321",
   "metadata": {},
   "outputs": [
    {
     "data": {
      "text/plain": [
       "'r'"
      ]
     },
     "execution_count": 3,
     "metadata": {},
     "output_type": "execute_result"
    }
   ],
   "source": [
    "s[0]"
   ]
  },
  {
   "cell_type": "code",
   "execution_count": 4,
   "id": "bbe77188-0747-49cc-934d-805afbac02a4",
   "metadata": {},
   "outputs": [
    {
     "data": {
      "text/plain": [
       "'h'"
      ]
     },
     "execution_count": 4,
     "metadata": {},
     "output_type": "execute_result"
    }
   ],
   "source": [
    "s[-1]"
   ]
  },
  {
   "cell_type": "code",
   "execution_count": 5,
   "id": "660b0697-435d-4da6-bbc1-1b8ccfe14900",
   "metadata": {},
   "outputs": [],
   "source": [
    "x = \"Hello World\""
   ]
  },
  {
   "cell_type": "code",
   "execution_count": 6,
   "id": "455a6386-70ea-4b29-a1bb-485dd673b30e",
   "metadata": {},
   "outputs": [
    {
     "data": {
      "text/plain": [
       "'Hello World'"
      ]
     },
     "execution_count": 6,
     "metadata": {},
     "output_type": "execute_result"
    }
   ],
   "source": [
    "x"
   ]
  },
  {
   "cell_type": "code",
   "execution_count": 7,
   "id": "ba4ab3d7-383a-4168-b830-22821b595dd2",
   "metadata": {},
   "outputs": [
    {
     "data": {
      "text/plain": [
       "'Hell'"
      ]
     },
     "execution_count": 7,
     "metadata": {},
     "output_type": "execute_result"
    }
   ],
   "source": [
    "x[0:4]"
   ]
  },
  {
   "cell_type": "code",
   "execution_count": 8,
   "id": "b1eadd19-84d4-42a3-ba01-6f796f9ee6dc",
   "metadata": {},
   "outputs": [],
   "source": [
    "a = \"Kumar\""
   ]
  },
  {
   "cell_type": "code",
   "execution_count": 9,
   "id": "3b9296b0-eb64-4b75-acfb-c38abb86c1b9",
   "metadata": {},
   "outputs": [
    {
     "data": {
      "text/plain": [
       "'Kumar'"
      ]
     },
     "execution_count": 9,
     "metadata": {},
     "output_type": "execute_result"
    }
   ],
   "source": [
    "a[0:300:1]"
   ]
  },
  {
   "cell_type": "code",
   "execution_count": 10,
   "id": "6a92b28e-5778-4429-99b3-4e1a5aa8e3b5",
   "metadata": {},
   "outputs": [
    {
     "data": {
      "text/plain": [
       "'Kmr'"
      ]
     },
     "execution_count": 10,
     "metadata": {},
     "output_type": "execute_result"
    }
   ],
   "source": [
    "a[0:300:2]"
   ]
  },
  {
   "cell_type": "code",
   "execution_count": 11,
   "id": "a5e8caa4-8f9f-459e-8196-d0c6186e9d9a",
   "metadata": {},
   "outputs": [
    {
     "data": {
      "text/plain": [
       "''"
      ]
     },
     "execution_count": 11,
     "metadata": {},
     "output_type": "execute_result"
    }
   ],
   "source": [
    "a[0:100:-1]"
   ]
  },
  {
   "cell_type": "code",
   "execution_count": 12,
   "id": "cbe28ff7-aa91-4a14-bef3-a1252789a1de",
   "metadata": {},
   "outputs": [
    {
     "data": {
      "text/plain": [
       "''"
      ]
     },
     "execution_count": 12,
     "metadata": {},
     "output_type": "execute_result"
    }
   ],
   "source": [
    "a[-1:-4]"
   ]
  },
  {
   "cell_type": "code",
   "execution_count": 13,
   "id": "40115f44-5f4b-4190-8fc6-8653fcb3dac8",
   "metadata": {},
   "outputs": [
    {
     "data": {
      "text/plain": [
       "'K'"
      ]
     },
     "execution_count": 13,
     "metadata": {},
     "output_type": "execute_result"
    }
   ],
   "source": [
    "a[0:-10:-1]"
   ]
  },
  {
   "cell_type": "code",
   "execution_count": 14,
   "id": "a956c613-242c-4461-a3cb-9c3d513a1ed0",
   "metadata": {},
   "outputs": [
    {
     "data": {
      "text/plain": [
       "'Kumar'"
      ]
     },
     "execution_count": 14,
     "metadata": {},
     "output_type": "execute_result"
    }
   ],
   "source": [
    "# starting and end range\n",
    "a[::]  "
   ]
  },
  {
   "cell_type": "code",
   "execution_count": 15,
   "id": "dbbba1f3-c0d4-44f4-99d7-a265ee3b748a",
   "metadata": {},
   "outputs": [
    {
     "data": {
      "text/plain": [
       "'Kumar'"
      ]
     },
     "execution_count": 15,
     "metadata": {},
     "output_type": "execute_result"
    }
   ],
   "source": [
    "a [: 8]"
   ]
  },
  {
   "cell_type": "code",
   "execution_count": 16,
   "id": "37d0ea68-7e4f-44d3-838e-4ce7aa181d9e",
   "metadata": {},
   "outputs": [
    {
     "data": {
      "text/plain": [
       "'a'"
      ]
     },
     "execution_count": 16,
     "metadata": {},
     "output_type": "execute_result"
    }
   ],
   "source": [
    "a[-2]"
   ]
  },
  {
   "cell_type": "code",
   "execution_count": 17,
   "id": "df6da6ca-fda8-4425-8c4d-00b9b6fd6192",
   "metadata": {},
   "outputs": [
    {
     "data": {
      "text/plain": [
       "'a'"
      ]
     },
     "execution_count": 17,
     "metadata": {},
     "output_type": "execute_result"
    }
   ],
   "source": [
    "a[-2:-1]"
   ]
  },
  {
   "cell_type": "code",
   "execution_count": 18,
   "id": "1fa53518-b365-456f-8ae1-633afaf021bd",
   "metadata": {},
   "outputs": [
    {
     "data": {
      "text/plain": [
       "'ramuK'"
      ]
     },
     "execution_count": 18,
     "metadata": {},
     "output_type": "execute_result"
    }
   ],
   "source": [
    "a [::-1]"
   ]
  },
  {
   "cell_type": "code",
   "execution_count": 19,
   "id": "753489e1-ee29-43e7-ae7c-989a30f7fead",
   "metadata": {},
   "outputs": [],
   "source": [
    "geek = \"HelloWorld\""
   ]
  },
  {
   "cell_type": "code",
   "execution_count": 20,
   "id": "64bdea5d-3f75-42df-bc7d-e9ed0538be27",
   "metadata": {},
   "outputs": [
    {
     "data": {
      "text/plain": [
       "'HelloWorld'"
      ]
     },
     "execution_count": 20,
     "metadata": {},
     "output_type": "execute_result"
    }
   ],
   "source": [
    "geek"
   ]
  },
  {
   "cell_type": "code",
   "execution_count": 21,
   "id": "e7071efd-1c2a-4e1b-ac69-0f49e9e5be70",
   "metadata": {},
   "outputs": [
    {
     "data": {
      "text/plain": [
       "'dlroWolleH'"
      ]
     },
     "execution_count": 21,
     "metadata": {},
     "output_type": "execute_result"
    }
   ],
   "source": [
    "geek[::-1]  # string reverse"
   ]
  },
  {
   "cell_type": "code",
   "execution_count": 22,
   "id": "22ff636e-b4e6-430b-be72-27277ab984d8",
   "metadata": {},
   "outputs": [
    {
     "data": {
      "text/plain": [
       "'HelloWorld'"
      ]
     },
     "execution_count": 22,
     "metadata": {},
     "output_type": "execute_result"
    }
   ],
   "source": [
    "geek"
   ]
  },
  {
   "cell_type": "code",
   "execution_count": 23,
   "id": "8d43262c-a3fa-4f50-956e-a93ba612c398",
   "metadata": {},
   "outputs": [
    {
     "data": {
      "text/plain": [
       "''"
      ]
     },
     "execution_count": 23,
     "metadata": {},
     "output_type": "execute_result"
    }
   ],
   "source": [
    "geek[5:-5:-1]"
   ]
  },
  {
   "cell_type": "code",
   "execution_count": 24,
   "id": "44f3c30d-8e22-4178-98b9-57df25987eee",
   "metadata": {},
   "outputs": [
    {
     "data": {
      "text/plain": [
       "''"
      ]
     },
     "execution_count": 24,
     "metadata": {},
     "output_type": "execute_result"
    }
   ],
   "source": [
    "geek[-5:5:-1]"
   ]
  },
  {
   "cell_type": "code",
   "execution_count": 25,
   "id": "47a3f27a-7f04-4359-a4fe-ce0c53ac325b",
   "metadata": {},
   "outputs": [
    {
     "data": {
      "text/plain": [
       "'Wolle'"
      ]
     },
     "execution_count": 25,
     "metadata": {},
     "output_type": "execute_result"
    }
   ],
   "source": [
    "geek[-5:0:-1] # string slicing "
   ]
  },
  {
   "cell_type": "markdown",
   "id": "6135f239-571d-4670-bc5a-1010b9d28544",
   "metadata": {},
   "source": [
    "String Function\n",
    "---------------"
   ]
  },
  {
   "cell_type": "code",
   "execution_count": 26,
   "id": "40c8e9a3-9dbd-47e7-ac64-01c3e1443fbd",
   "metadata": {},
   "outputs": [
    {
     "data": {
      "text/plain": [
       "10"
      ]
     },
     "execution_count": 26,
     "metadata": {},
     "output_type": "execute_result"
    }
   ],
   "source": [
    "len(geek)"
   ]
  },
  {
   "cell_type": "code",
   "execution_count": 27,
   "id": "8ee07f9f-54fd-49bf-a66e-97e707245683",
   "metadata": {},
   "outputs": [],
   "source": [
    "geek = \"Hello World\""
   ]
  },
  {
   "cell_type": "code",
   "execution_count": 28,
   "id": "3d83276b-8dd6-48e5-a0e8-35af924f61f7",
   "metadata": {},
   "outputs": [],
   "source": [
    "s = \"kam\""
   ]
  },
  {
   "cell_type": "code",
   "execution_count": 29,
   "id": "2f21db5c-7627-449c-8012-a879bac3dc7e",
   "metadata": {},
   "outputs": [
    {
     "data": {
      "text/plain": [
       "'kamkamkam'"
      ]
     },
     "execution_count": 29,
     "metadata": {},
     "output_type": "execute_result"
    }
   ],
   "source": [
    "s*3  #repeat"
   ]
  },
  {
   "cell_type": "code",
   "execution_count": 30,
   "id": "7edca4aa-1b32-4c28-894b-55badad2a2fb",
   "metadata": {},
   "outputs": [
    {
     "data": {
      "text/plain": [
       "'kamhashing'"
      ]
     },
     "execution_count": 30,
     "metadata": {},
     "output_type": "execute_result"
    }
   ],
   "source": [
    "s+\"hashing\"   #concat"
   ]
  },
  {
   "cell_type": "code",
   "execution_count": 31,
   "id": "133e68f5-db7f-4c61-b272-f19822025795",
   "metadata": {},
   "outputs": [
    {
     "data": {
      "text/plain": [
       "6"
      ]
     },
     "execution_count": 31,
     "metadata": {},
     "output_type": "execute_result"
    }
   ],
   "source": [
    "geek.index(\"W\")"
   ]
  },
  {
   "cell_type": "code",
   "execution_count": 32,
   "id": "4661c0e4-4822-46b8-8ac2-398b5a392c67",
   "metadata": {},
   "outputs": [
    {
     "data": {
      "text/plain": [
       "-1"
      ]
     },
     "execution_count": 32,
     "metadata": {},
     "output_type": "execute_result"
    }
   ],
   "source": [
    "geek.find(\"mr\")"
   ]
  },
  {
   "cell_type": "code",
   "execution_count": 33,
   "id": "ae0772df-1e24-4a75-9a6d-25943cc86e4e",
   "metadata": {},
   "outputs": [],
   "source": [
    "name = \"Ritesh Kumar\""
   ]
  },
  {
   "cell_type": "code",
   "execution_count": 34,
   "id": "b670d090-c8f5-48ea-845e-33db7530b3af",
   "metadata": {},
   "outputs": [
    {
     "data": {
      "text/plain": [
       "'Ritesh Kumar'"
      ]
     },
     "execution_count": 34,
     "metadata": {},
     "output_type": "execute_result"
    }
   ],
   "source": [
    "name"
   ]
  },
  {
   "cell_type": "code",
   "execution_count": 35,
   "id": "61319722-72c3-4c6a-8ebd-439a07d88981",
   "metadata": {},
   "outputs": [],
   "source": [
    "op= name.split()"
   ]
  },
  {
   "cell_type": "code",
   "execution_count": 36,
   "id": "87854668-9e07-4aac-b0b7-69d64df84712",
   "metadata": {},
   "outputs": [
    {
     "data": {
      "text/plain": [
       "['Ritesh', 'Kumar']"
      ]
     },
     "execution_count": 36,
     "metadata": {},
     "output_type": "execute_result"
    }
   ],
   "source": [
    "op"
   ]
  },
  {
   "cell_type": "code",
   "execution_count": 37,
   "id": "7009d2a4-c8f8-4cb6-b5a8-5d4423a716b4",
   "metadata": {},
   "outputs": [
    {
     "data": {
      "text/plain": [
       "list"
      ]
     },
     "execution_count": 37,
     "metadata": {},
     "output_type": "execute_result"
    }
   ],
   "source": [
    "type(op)"
   ]
  },
  {
   "cell_type": "markdown",
   "id": "9cf2d4db-8907-4c1e-a684-8c40f7df5b3e",
   "metadata": {},
   "source": [
    "List"
   ]
  },
  {
   "cell_type": "code",
   "execution_count": 38,
   "id": "71e60836-c2ff-41af-b293-5027f128c378",
   "metadata": {},
   "outputs": [],
   "source": [
    "l = [ \"a\",\"b\",10,\"str\"]  # Hetrogeneous and Homogeneous"
   ]
  },
  {
   "cell_type": "code",
   "execution_count": 39,
   "id": "f90b2baa-8b41-43b0-aaf3-2dff053f82d0",
   "metadata": {},
   "outputs": [
    {
     "data": {
      "text/plain": [
       "list"
      ]
     },
     "execution_count": 39,
     "metadata": {},
     "output_type": "execute_result"
    }
   ],
   "source": [
    "type(l)"
   ]
  },
  {
   "cell_type": "code",
   "execution_count": 40,
   "id": "f2e495d1-4cf8-41a4-bee9-176380d8124b",
   "metadata": {},
   "outputs": [
    {
     "data": {
      "text/plain": [
       "['a', 'b', 10, 'str']"
      ]
     },
     "execution_count": 40,
     "metadata": {},
     "output_type": "execute_result"
    }
   ],
   "source": [
    "l [0:4]"
   ]
  },
  {
   "cell_type": "code",
   "execution_count": 41,
   "id": "cf0f6062-86cc-49b2-b931-1ebeaf51f0e2",
   "metadata": {},
   "outputs": [],
   "source": [
    "l = [\"rkm\", 4+6j, \"KR\", \"MR\", 102]"
   ]
  },
  {
   "cell_type": "code",
   "execution_count": 42,
   "id": "1cf28c7a-b060-46ba-9c06-c83b7dc9a3d4",
   "metadata": {},
   "outputs": [
    {
     "data": {
      "text/plain": [
       "['rkm', (4+6j), 'KR', 'MR', 102]"
      ]
     },
     "execution_count": 42,
     "metadata": {},
     "output_type": "execute_result"
    }
   ],
   "source": [
    "l"
   ]
  },
  {
   "cell_type": "code",
   "execution_count": 43,
   "id": "2e2f95d0-255e-4f08-93ce-c70fe92d1f2a",
   "metadata": {},
   "outputs": [
    {
     "data": {
      "text/plain": [
       "'k'"
      ]
     },
     "execution_count": 43,
     "metadata": {},
     "output_type": "execute_result"
    }
   ],
   "source": [
    "l[0][1]"
   ]
  },
  {
   "cell_type": "code",
   "execution_count": 44,
   "id": "fe68f68a-4222-4ab3-86d6-5e9135af5b19",
   "metadata": {},
   "outputs": [
    {
     "data": {
      "text/plain": [
       "4.0"
      ]
     },
     "execution_count": 44,
     "metadata": {},
     "output_type": "execute_result"
    }
   ],
   "source": [
    "l[1].real"
   ]
  },
  {
   "cell_type": "code",
   "execution_count": 45,
   "id": "89a33d8d-6e2e-404b-91b5-beeec8e13b67",
   "metadata": {},
   "outputs": [
    {
     "data": {
      "text/plain": [
       "6.0"
      ]
     },
     "execution_count": 45,
     "metadata": {},
     "output_type": "execute_result"
    }
   ],
   "source": [
    "l[1].imag"
   ]
  },
  {
   "cell_type": "code",
   "execution_count": 46,
   "id": "b3369e23-66c7-43b7-b4d5-7f11c36bb4b1",
   "metadata": {},
   "outputs": [],
   "source": [
    "l1 = [\"Ritesh\", \"Kumar\", 10]"
   ]
  },
  {
   "cell_type": "code",
   "execution_count": 47,
   "id": "b9f2e1a9-5adb-44d6-8715-f898d8fc6370",
   "metadata": {},
   "outputs": [
    {
     "data": {
      "text/plain": [
       "['Ritesh', 'Kumar', 10]"
      ]
     },
     "execution_count": 47,
     "metadata": {},
     "output_type": "execute_result"
    }
   ],
   "source": [
    "l1"
   ]
  },
  {
   "cell_type": "code",
   "execution_count": 48,
   "id": "ba33d0b1-88b7-4216-98dc-bdc5916663ce",
   "metadata": {},
   "outputs": [
    {
     "data": {
      "text/plain": [
       "['rkm', (4+6j), 'KR', 'MR', 102, 'Ritesh', 'Kumar', 10]"
      ]
     },
     "execution_count": 48,
     "metadata": {},
     "output_type": "execute_result"
    }
   ],
   "source": [
    "l+l1"
   ]
  },
  {
   "cell_type": "code",
   "execution_count": 49,
   "id": "f7e076d6-c4ca-4152-8ec3-14f72e7e1dfe",
   "metadata": {},
   "outputs": [
    {
     "data": {
      "text/plain": [
       "['rkm',\n",
       " (4+6j),\n",
       " 'KR',\n",
       " 'MR',\n",
       " 102,\n",
       " 'rkm',\n",
       " (4+6j),\n",
       " 'KR',\n",
       " 'MR',\n",
       " 102,\n",
       " 'rkm',\n",
       " (4+6j),\n",
       " 'KR',\n",
       " 'MR',\n",
       " 102,\n",
       " 'rkm',\n",
       " (4+6j),\n",
       " 'KR',\n",
       " 'MR',\n",
       " 102]"
      ]
     },
     "execution_count": 49,
     "metadata": {},
     "output_type": "execute_result"
    }
   ],
   "source": [
    "l * 4"
   ]
  },
  {
   "cell_type": "code",
   "execution_count": 50,
   "id": "cb047823-5a60-474f-bf30-2b02784b8ade",
   "metadata": {},
   "outputs": [
    {
     "data": {
      "text/plain": [
       "True"
      ]
     },
     "execution_count": 50,
     "metadata": {},
     "output_type": "execute_result"
    }
   ],
   "source": [
    "\"Kumar\" in l1"
   ]
  },
  {
   "cell_type": "code",
   "execution_count": 51,
   "id": "f1bf5d05-c54b-4c27-bac6-d4c869c4e9c1",
   "metadata": {},
   "outputs": [],
   "source": [
    "str = \"Abhinav\""
   ]
  },
  {
   "cell_type": "code",
   "execution_count": 55,
   "id": "203338bd-36de-4403-8dd3-50b3d0e5e888",
   "metadata": {},
   "outputs": [
    {
     "data": {
      "text/plain": [
       "'str[0] = \"sbtr\"  \\n\\n\\'str\\' object does not support item assignment '"
      ]
     },
     "execution_count": 55,
     "metadata": {},
     "output_type": "execute_result"
    }
   ],
   "source": [
    "#String is imutable\n",
    "'''str[0] = \"sbtr\"  \n",
    "\n",
    "'str' object does not support item assignment '''\n",
    "\n",
    "\n",
    "\n"
   ]
  },
  {
   "cell_type": "markdown",
   "id": "2a37858a-8aa2-4417-8509-6056331a4936",
   "metadata": {},
   "source": [
    "List Function "
   ]
  },
  {
   "cell_type": "code",
   "execution_count": null,
   "id": "c0230d9e-61f2-4b15-896f-1b7e4a950d9d",
   "metadata": {},
   "outputs": [],
   "source": [
    "l.append(\"Testing append\")"
   ]
  },
  {
   "cell_type": "code",
   "execution_count": null,
   "id": "7634c9f0-6a1d-4546-9270-5b3bd414f6fe",
   "metadata": {},
   "outputs": [
    {
     "data": {
      "text/plain": [
       "['rkm', (4+6j), 'KR', 'MR', 102, 'Testing append']"
      ]
     },
     "execution_count": 49,
     "metadata": {},
     "output_type": "execute_result"
    }
   ],
   "source": [
    "l"
   ]
  },
  {
   "cell_type": "code",
   "execution_count": null,
   "id": "db1c2f7d-beea-4086-b71d-864c034e78de",
   "metadata": {},
   "outputs": [
    {
     "data": {
      "text/plain": [
       "'Testing append'"
      ]
     },
     "execution_count": 51,
     "metadata": {},
     "output_type": "execute_result"
    }
   ],
   "source": [
    "l.pop() #removed the last index element"
   ]
  },
  {
   "cell_type": "code",
   "execution_count": null,
   "id": "7549299b-8e1c-4cd0-b4f7-7a5deb6a9825",
   "metadata": {},
   "outputs": [
    {
     "data": {
      "text/plain": [
       "['rkm', (4+6j), 'KR', 'MR', 102]"
      ]
     },
     "execution_count": 53,
     "metadata": {},
     "output_type": "execute_result"
    }
   ],
   "source": [
    "l"
   ]
  },
  {
   "cell_type": "code",
   "execution_count": null,
   "id": "cfa93367-36e4-4e03-b5e4-2437314fdd3b",
   "metadata": {},
   "outputs": [],
   "source": [
    "l.insert(1,\"At Index 1\")   #insert(index,object)"
   ]
  },
  {
   "cell_type": "code",
   "execution_count": null,
   "id": "231569ab-f155-4d21-8ca6-1823092b3948",
   "metadata": {},
   "outputs": [
    {
     "data": {
      "text/plain": [
       "['rkm', 'At Index 1', 'At Index 1', (4+6j), 'KR', 'MR', 102]"
      ]
     },
     "execution_count": 61,
     "metadata": {},
     "output_type": "execute_result"
    }
   ],
   "source": [
    "l"
   ]
  },
  {
   "cell_type": "code",
   "execution_count": null,
   "id": "027501cd-1a3d-49cd-950d-ccdfb90d26ae",
   "metadata": {},
   "outputs": [],
   "source": [
    "l.reverse()"
   ]
  },
  {
   "cell_type": "code",
   "execution_count": null,
   "id": "c5c5160b-cd92-43b1-b2d5-823a793ccec7",
   "metadata": {},
   "outputs": [
    {
     "data": {
      "text/plain": [
       "[102, 'MR', 'KR', (4+6j), 'At Index 1', 'At Index 1', 'rkm']"
      ]
     },
     "execution_count": 65,
     "metadata": {},
     "output_type": "execute_result"
    }
   ],
   "source": [
    "l"
   ]
  },
  {
   "cell_type": "code",
   "execution_count": null,
   "id": "55444fbc-4fe2-4dfa-aff8-058590253f58",
   "metadata": {},
   "outputs": [
    {
     "data": {
      "text/plain": [
       "[102, 'MR', 'KR', (4+6j), 'At Index 1', 'At Index 1', 'rkm']"
      ]
     },
     "execution_count": 69,
     "metadata": {},
     "output_type": "execute_result"
    }
   ],
   "source": [
    "l"
   ]
  },
  {
   "cell_type": "code",
   "execution_count": null,
   "id": "87a7505d-5f4c-49a7-b3f3-dcb5c7b96d8b",
   "metadata": {},
   "outputs": [],
   "source": [
    "l.reverse()"
   ]
  },
  {
   "cell_type": "code",
   "execution_count": 56,
   "id": "7ad7d903-d331-4eb0-a9a4-fc957c17d93c",
   "metadata": {},
   "outputs": [
    {
     "data": {
      "text/plain": [
       "' l[0][0] = \"replace\" \\n\\nTypeError: \\'str\\' object does not support item assignment '"
      ]
     },
     "execution_count": 56,
     "metadata": {},
     "output_type": "execute_result"
    }
   ],
   "source": [
    "''' l[0][0] = \"replace\" \n",
    "\n",
    "TypeError: 'str' object does not support item assignment '''"
   ]
  },
  {
   "cell_type": "code",
   "execution_count": null,
   "id": "2afa9aee-d84d-460f-bf5a-a7c4dae65e07",
   "metadata": {},
   "outputs": [],
   "source": [
    "l. append([10,20,\"kr\"])"
   ]
  },
  {
   "cell_type": "code",
   "execution_count": null,
   "id": "dbd0a585-bd86-48b0-a112-9e09d4d6d22f",
   "metadata": {},
   "outputs": [
    {
     "data": {
      "text/plain": [
       "['rkm', 'At Index 1', 'At Index 1', (4+6j), 'KR', 'MR', 102, [10, 20, 'kr']]"
      ]
     },
     "execution_count": 81,
     "metadata": {},
     "output_type": "execute_result"
    }
   ],
   "source": [
    "l"
   ]
  },
  {
   "cell_type": "code",
   "execution_count": null,
   "id": "03fed76b-3ece-46be-9091-350a2a689723",
   "metadata": {},
   "outputs": [
    {
     "data": {
      "text/plain": [
       "1"
      ]
     },
     "execution_count": 83,
     "metadata": {},
     "output_type": "execute_result"
    }
   ],
   "source": [
    "l.count(\"rkm\")"
   ]
  },
  {
   "cell_type": "code",
   "execution_count": null,
   "id": "a575eb01-f245-431d-a020-ed2b0eed41e9",
   "metadata": {},
   "outputs": [
    {
     "data": {
      "text/plain": [
       "2"
      ]
     },
     "execution_count": 89,
     "metadata": {},
     "output_type": "execute_result"
    }
   ],
   "source": [
    "l.count(\"At Index 1\")"
   ]
  },
  {
   "cell_type": "code",
   "execution_count": null,
   "id": "9436f496-d844-41cd-8ea5-b07b0b268a82",
   "metadata": {},
   "outputs": [],
   "source": [
    "l.extend([2,45,56,\"isdf\"])"
   ]
  },
  {
   "cell_type": "code",
   "execution_count": null,
   "id": "cec69125-f34c-46b5-8397-3c325717c96b",
   "metadata": {},
   "outputs": [
    {
     "data": {
      "text/plain": [
       "['rkm',\n",
       " 'At Index 1',\n",
       " 'At Index 1',\n",
       " (4+6j),\n",
       " 'KR',\n",
       " 'MR',\n",
       " 102,\n",
       " [10, 20, 'kr'],\n",
       " 2,\n",
       " 45,\n",
       " 56,\n",
       " 'isdf',\n",
       " 2,\n",
       " 45,\n",
       " 56,\n",
       " 'isdf',\n",
       " 2,\n",
       " 45,\n",
       " 56,\n",
       " 'isdf']"
      ]
     },
     "execution_count": 101,
     "metadata": {},
     "output_type": "execute_result"
    }
   ],
   "source": [
    "l"
   ]
  },
  {
   "cell_type": "code",
   "execution_count": 58,
   "id": "d7955cf7-2146-4a7a-b3eb-db2991607c4f",
   "metadata": {},
   "outputs": [
    {
     "data": {
      "text/plain": [
       "3"
      ]
     },
     "execution_count": 58,
     "metadata": {},
     "output_type": "execute_result"
    }
   ],
   "source": [
    "len(l1)"
   ]
  },
  {
   "cell_type": "code",
   "execution_count": null,
   "id": "0bf20bcb",
   "metadata": {},
   "outputs": [
    {
     "data": {
      "text/plain": [
       "False"
      ]
     },
     "execution_count": 59,
     "metadata": {},
     "output_type": "execute_result"
    }
   ],
   "source": [
    "345 in l1"
   ]
  },
  {
   "cell_type": "code",
   "execution_count": 60,
   "id": "a871c4f2",
   "metadata": {},
   "outputs": [
    {
     "data": {
      "text/plain": [
       "[(5+8j)]"
      ]
     },
     "execution_count": 60,
     "metadata": {},
     "output_type": "execute_result"
    }
   ],
   "source": [
    "l = ['okay','kumar', 78,45,789,5.5,True, 5+8j]\n",
    "l[-1:6:-1]"
   ]
  },
  {
   "cell_type": "code",
   "execution_count": 62,
   "id": "82985a77",
   "metadata": {},
   "outputs": [],
   "source": [
    "l2 =  [\"xyz\" , \"pqr\" , 546.567]"
   ]
  },
  {
   "cell_type": "code",
   "execution_count": 63,
   "id": "e0901ae4",
   "metadata": {},
   "outputs": [
    {
     "data": {
      "text/plain": [
       "['xyz', 'pqr', 546.567]"
      ]
     },
     "execution_count": 63,
     "metadata": {},
     "output_type": "execute_result"
    }
   ],
   "source": [
    "l2"
   ]
  },
  {
   "cell_type": "code",
   "execution_count": null,
   "id": "72ebafea",
   "metadata": {},
   "outputs": [],
   "source": [
    "\n"
   ]
  }
 ],
 "metadata": {
  "kernelspec": {
   "display_name": "base",
   "language": "python",
   "name": "python3"
  },
  "language_info": {
   "codemirror_mode": {
    "name": "ipython",
    "version": 3
   },
   "file_extension": ".py",
   "mimetype": "text/x-python",
   "name": "python",
   "nbconvert_exporter": "python",
   "pygments_lexer": "ipython3",
   "version": "3.12.7"
  }
 },
 "nbformat": 4,
 "nbformat_minor": 5
}
