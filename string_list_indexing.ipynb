{
 "cells": [
  {
   "cell_type": "code",
   "execution_count": 1,
   "id": "26ae1e14-a432-4f0e-a498-ecf522aedc7f",
   "metadata": {},
   "outputs": [],
   "source": [
    "s = \"ritesh\""
   ]
  },
  {
   "cell_type": "code",
   "execution_count": 3,
   "id": "a4875c3b-f434-4368-9e5e-664f5c3c6321",
   "metadata": {},
   "outputs": [
    {
     "data": {
      "text/plain": [
       "'r'"
      ]
     },
     "execution_count": 3,
     "metadata": {},
     "output_type": "execute_result"
    }
   ],
   "source": [
    "s[0]"
   ]
  },
  {
   "cell_type": "code",
   "execution_count": 7,
   "id": "bbe77188-0747-49cc-934d-805afbac02a4",
   "metadata": {},
   "outputs": [
    {
     "data": {
      "text/plain": [
       "'h'"
      ]
     },
     "execution_count": 7,
     "metadata": {},
     "output_type": "execute_result"
    }
   ],
   "source": [
    "s[-1]"
   ]
  },
  {
   "cell_type": "code",
   "execution_count": 9,
   "id": "660b0697-435d-4da6-bbc1-1b8ccfe14900",
   "metadata": {},
   "outputs": [],
   "source": [
    "x = \"Hello World\""
   ]
  },
  {
   "cell_type": "code",
   "execution_count": 11,
   "id": "455a6386-70ea-4b29-a1bb-485dd673b30e",
   "metadata": {},
   "outputs": [
    {
     "data": {
      "text/plain": [
       "'Hello World'"
      ]
     },
     "execution_count": 11,
     "metadata": {},
     "output_type": "execute_result"
    }
   ],
   "source": [
    "x"
   ]
  },
  {
   "cell_type": "code",
   "execution_count": 15,
   "id": "ba4ab3d7-383a-4168-b830-22821b595dd2",
   "metadata": {},
   "outputs": [
    {
     "data": {
      "text/plain": [
       "'Hell'"
      ]
     },
     "execution_count": 15,
     "metadata": {},
     "output_type": "execute_result"
    }
   ],
   "source": [
    "x[0:4]"
   ]
  },
  {
   "cell_type": "code",
   "execution_count": 17,
   "id": "b1eadd19-84d4-42a3-ba01-6f796f9ee6dc",
   "metadata": {},
   "outputs": [],
   "source": [
    "a = \"Kumar\""
   ]
  },
  {
   "cell_type": "code",
   "execution_count": 19,
   "id": "3b9296b0-eb64-4b75-acfb-c38abb86c1b9",
   "metadata": {},
   "outputs": [
    {
     "data": {
      "text/plain": [
       "'Kumar'"
      ]
     },
     "execution_count": 19,
     "metadata": {},
     "output_type": "execute_result"
    }
   ],
   "source": [
    "a[0:300:1]"
   ]
  },
  {
   "cell_type": "code",
   "execution_count": 21,
   "id": "6a92b28e-5778-4429-99b3-4e1a5aa8e3b5",
   "metadata": {},
   "outputs": [
    {
     "data": {
      "text/plain": [
       "'Kmr'"
      ]
     },
     "execution_count": 21,
     "metadata": {},
     "output_type": "execute_result"
    }
   ],
   "source": [
    "a[0:300:2]"
   ]
  },
  {
   "cell_type": "code",
   "execution_count": 23,
   "id": "a5e8caa4-8f9f-459e-8196-d0c6186e9d9a",
   "metadata": {},
   "outputs": [
    {
     "data": {
      "text/plain": [
       "''"
      ]
     },
     "execution_count": 23,
     "metadata": {},
     "output_type": "execute_result"
    }
   ],
   "source": [
    "a[0:100:-1]"
   ]
  },
  {
   "cell_type": "code",
   "execution_count": 25,
   "id": "cbe28ff7-aa91-4a14-bef3-a1252789a1de",
   "metadata": {},
   "outputs": [
    {
     "data": {
      "text/plain": [
       "''"
      ]
     },
     "execution_count": 25,
     "metadata": {},
     "output_type": "execute_result"
    }
   ],
   "source": [
    "a[-1:-4]"
   ]
  },
  {
   "cell_type": "code",
   "execution_count": 27,
   "id": "40115f44-5f4b-4190-8fc6-8653fcb3dac8",
   "metadata": {},
   "outputs": [
    {
     "data": {
      "text/plain": [
       "'K'"
      ]
     },
     "execution_count": 27,
     "metadata": {},
     "output_type": "execute_result"
    }
   ],
   "source": [
    "a[0:-10:-1]"
   ]
  },
  {
   "cell_type": "code",
   "execution_count": 31,
   "id": "a956c613-242c-4461-a3cb-9c3d513a1ed0",
   "metadata": {},
   "outputs": [
    {
     "data": {
      "text/plain": [
       "'Kumar'"
      ]
     },
     "execution_count": 31,
     "metadata": {},
     "output_type": "execute_result"
    }
   ],
   "source": [
    "a[::]  # starting and end range"
   ]
  },
  {
   "cell_type": "code",
   "execution_count": 33,
   "id": "dbbba1f3-c0d4-44f4-99d7-a265ee3b748a",
   "metadata": {},
   "outputs": [
    {
     "data": {
      "text/plain": [
       "'Kumar'"
      ]
     },
     "execution_count": 33,
     "metadata": {},
     "output_type": "execute_result"
    }
   ],
   "source": [
    "a [: 8]"
   ]
  },
  {
   "cell_type": "code",
   "execution_count": 35,
   "id": "37d0ea68-7e4f-44d3-838e-4ce7aa181d9e",
   "metadata": {},
   "outputs": [
    {
     "data": {
      "text/plain": [
       "'a'"
      ]
     },
     "execution_count": 35,
     "metadata": {},
     "output_type": "execute_result"
    }
   ],
   "source": [
    "a[-2]"
   ]
  },
  {
   "cell_type": "code",
   "execution_count": 37,
   "id": "df6da6ca-fda8-4425-8c4d-00b9b6fd6192",
   "metadata": {},
   "outputs": [
    {
     "data": {
      "text/plain": [
       "'a'"
      ]
     },
     "execution_count": 37,
     "metadata": {},
     "output_type": "execute_result"
    }
   ],
   "source": [
    "a[-2:-1]"
   ]
  },
  {
   "cell_type": "code",
   "execution_count": 39,
   "id": "1fa53518-b365-456f-8ae1-633afaf021bd",
   "metadata": {},
   "outputs": [
    {
     "data": {
      "text/plain": [
       "'ramuK'"
      ]
     },
     "execution_count": 39,
     "metadata": {},
     "output_type": "execute_result"
    }
   ],
   "source": [
    "a [::-1]"
   ]
  },
  {
   "cell_type": "code",
   "execution_count": 68,
   "id": "753489e1-ee29-43e7-ae7c-989a30f7fead",
   "metadata": {},
   "outputs": [],
   "source": [
    "geek = \"HelloWorld\""
   ]
  },
  {
   "cell_type": "code",
   "execution_count": 53,
   "id": "64bdea5d-3f75-42df-bc7d-e9ed0538be27",
   "metadata": {},
   "outputs": [
    {
     "data": {
      "text/plain": [
       "'Hello World'"
      ]
     },
     "execution_count": 53,
     "metadata": {},
     "output_type": "execute_result"
    }
   ],
   "source": [
    "geek"
   ]
  },
  {
   "cell_type": "code",
   "execution_count": 60,
   "id": "e7071efd-1c2a-4e1b-ac69-0f49e9e5be70",
   "metadata": {},
   "outputs": [
    {
     "data": {
      "text/plain": [
       "'dlroW olleH'"
      ]
     },
     "execution_count": 60,
     "metadata": {},
     "output_type": "execute_result"
    }
   ],
   "source": [
    "geek[::-1]  # string reverse"
   ]
  },
  {
   "cell_type": "code",
   "execution_count": 70,
   "id": "22ff636e-b4e6-430b-be72-27277ab984d8",
   "metadata": {},
   "outputs": [
    {
     "data": {
      "text/plain": [
       "'HelloWorld'"
      ]
     },
     "execution_count": 70,
     "metadata": {},
     "output_type": "execute_result"
    }
   ],
   "source": [
    "geek"
   ]
  },
  {
   "cell_type": "code",
   "execution_count": 76,
   "id": "8d43262c-a3fa-4f50-956e-a93ba612c398",
   "metadata": {},
   "outputs": [
    {
     "data": {
      "text/plain": [
       "''"
      ]
     },
     "execution_count": 76,
     "metadata": {},
     "output_type": "execute_result"
    }
   ],
   "source": [
    "geek[5:-5:-1]"
   ]
  },
  {
   "cell_type": "code",
   "execution_count": 78,
   "id": "44f3c30d-8e22-4178-98b9-57df25987eee",
   "metadata": {},
   "outputs": [
    {
     "data": {
      "text/plain": [
       "''"
      ]
     },
     "execution_count": 78,
     "metadata": {},
     "output_type": "execute_result"
    }
   ],
   "source": [
    "geek[-5:5:-1]"
   ]
  },
  {
   "cell_type": "code",
   "execution_count": 82,
   "id": "47a3f27a-7f04-4359-a4fe-ce0c53ac325b",
   "metadata": {},
   "outputs": [
    {
     "data": {
      "text/plain": [
       "'Wolle'"
      ]
     },
     "execution_count": 82,
     "metadata": {},
     "output_type": "execute_result"
    }
   ],
   "source": [
    "geek[-5:0:-1] # string slicing "
   ]
  },
  {
   "cell_type": "markdown",
   "id": "6135f239-571d-4670-bc5a-1010b9d28544",
   "metadata": {},
   "source": [
    "String Function\n",
    "---------------"
   ]
  },
  {
   "cell_type": "code",
   "execution_count": 85,
   "id": "40c8e9a3-9dbd-47e7-ac64-01c3e1443fbd",
   "metadata": {},
   "outputs": [
    {
     "data": {
      "text/plain": [
       "10"
      ]
     },
     "execution_count": 85,
     "metadata": {},
     "output_type": "execute_result"
    }
   ],
   "source": [
    "len(geek)"
   ]
  },
  {
   "cell_type": "code",
   "execution_count": 87,
   "id": "8ee07f9f-54fd-49bf-a66e-97e707245683",
   "metadata": {},
   "outputs": [],
   "source": [
    "geek = \"Hello World\""
   ]
  },
  {
   "cell_type": "code",
   "execution_count": 91,
   "id": "3d83276b-8dd6-48e5-a0e8-35af924f61f7",
   "metadata": {},
   "outputs": [],
   "source": [
    "s = \"kam\""
   ]
  },
  {
   "cell_type": "code",
   "execution_count": 97,
   "id": "2f21db5c-7627-449c-8012-a879bac3dc7e",
   "metadata": {},
   "outputs": [
    {
     "data": {
      "text/plain": [
       "'kamkamkam'"
      ]
     },
     "execution_count": 97,
     "metadata": {},
     "output_type": "execute_result"
    }
   ],
   "source": [
    "s*3  #repeat"
   ]
  },
  {
   "cell_type": "code",
   "execution_count": 99,
   "id": "7edca4aa-1b32-4c28-894b-55badad2a2fb",
   "metadata": {},
   "outputs": [
    {
     "data": {
      "text/plain": [
       "'kamhashing'"
      ]
     },
     "execution_count": 99,
     "metadata": {},
     "output_type": "execute_result"
    }
   ],
   "source": [
    "s+\"hashing\"   #concat"
   ]
  },
  {
   "cell_type": "code",
   "execution_count": 101,
   "id": "133e68f5-db7f-4c61-b272-f19822025795",
   "metadata": {},
   "outputs": [
    {
     "data": {
      "text/plain": [
       "6"
      ]
     },
     "execution_count": 101,
     "metadata": {},
     "output_type": "execute_result"
    }
   ],
   "source": [
    "geek.index(\"W\")"
   ]
  },
  {
   "cell_type": "code",
   "execution_count": 103,
   "id": "4661c0e4-4822-46b8-8ac2-398b5a392c67",
   "metadata": {},
   "outputs": [
    {
     "data": {
      "text/plain": [
       "-1"
      ]
     },
     "execution_count": 103,
     "metadata": {},
     "output_type": "execute_result"
    }
   ],
   "source": [
    "geek.find(\"mr\")"
   ]
  },
  {
   "cell_type": "code",
   "execution_count": 105,
   "id": "ae0772df-1e24-4a75-9a6d-25943cc86e4e",
   "metadata": {},
   "outputs": [],
   "source": [
    "name = \"Ritesh Kumar\""
   ]
  },
  {
   "cell_type": "code",
   "execution_count": 107,
   "id": "b670d090-c8f5-48ea-845e-33db7530b3af",
   "metadata": {},
   "outputs": [
    {
     "data": {
      "text/plain": [
       "'Ritesh Kumar'"
      ]
     },
     "execution_count": 107,
     "metadata": {},
     "output_type": "execute_result"
    }
   ],
   "source": [
    "name"
   ]
  },
  {
   "cell_type": "code",
   "execution_count": 111,
   "id": "61319722-72c3-4c6a-8ebd-439a07d88981",
   "metadata": {},
   "outputs": [],
   "source": [
    "op= name.split()"
   ]
  },
  {
   "cell_type": "code",
   "execution_count": 113,
   "id": "87854668-9e07-4aac-b0b7-69d64df84712",
   "metadata": {},
   "outputs": [
    {
     "data": {
      "text/plain": [
       "['Ritesh', 'Kumar']"
      ]
     },
     "execution_count": 113,
     "metadata": {},
     "output_type": "execute_result"
    }
   ],
   "source": [
    "op"
   ]
  },
  {
   "cell_type": "code",
   "execution_count": 115,
   "id": "7009d2a4-c8f8-4cb6-b5a8-5d4423a716b4",
   "metadata": {},
   "outputs": [
    {
     "data": {
      "text/plain": [
       "list"
      ]
     },
     "execution_count": 115,
     "metadata": {},
     "output_type": "execute_result"
    }
   ],
   "source": [
    "type(op)"
   ]
  },
  {
   "cell_type": "code",
   "execution_count": null,
   "id": "bf0c748d-b3e2-4df7-9045-aef0ef5cc528",
   "metadata": {},
   "outputs": [],
   "source": []
  }
 ],
 "metadata": {
  "kernelspec": {
   "display_name": "Python 3 (ipykernel)",
   "language": "python",
   "name": "python3"
  },
  "language_info": {
   "codemirror_mode": {
    "name": "ipython",
    "version": 3
   },
   "file_extension": ".py",
   "mimetype": "text/x-python",
   "name": "python",
   "nbconvert_exporter": "python",
   "pygments_lexer": "ipython3",
   "version": "3.11.7"
  }
 },
 "nbformat": 4,
 "nbformat_minor": 5
}
