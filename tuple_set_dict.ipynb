{
 "cells": [
  {
   "cell_type": "code",
   "execution_count": 1,
   "id": "51b4b495-991e-4b4b-b811-31b8464ea48b",
   "metadata": {},
   "outputs": [],
   "source": [
    "t = (1,2,\"str\",10)"
   ]
  },
  {
   "cell_type": "code",
   "execution_count": 3,
   "id": "11426fea-d60f-43ff-8147-93862f5c91ad",
   "metadata": {},
   "outputs": [
    {
     "data": {
      "text/plain": [
       "tuple"
      ]
     },
     "execution_count": 3,
     "metadata": {},
     "output_type": "execute_result"
    }
   ],
   "source": [
    "type(t)"
   ]
  },
  {
   "cell_type": "code",
   "execution_count": 5,
   "id": "d88b77aa-dbbe-4ad9-8245-1feb97275d15",
   "metadata": {},
   "outputs": [],
   "source": [
    "t1 = (20, 40, \"rama\", 5+10j, 45.20)"
   ]
  },
  {
   "cell_type": "code",
   "execution_count": 7,
   "id": "9dcecc9b-503e-4ff6-987b-2e9888a9d279",
   "metadata": {},
   "outputs": [
    {
     "data": {
      "text/plain": [
       "tuple"
      ]
     },
     "execution_count": 7,
     "metadata": {},
     "output_type": "execute_result"
    }
   ],
   "source": [
    "type(t1)"
   ]
  },
  {
   "cell_type": "code",
   "execution_count": 9,
   "id": "aa9e5aa2-cc68-458a-b365-06e7e120c9e3",
   "metadata": {},
   "outputs": [
    {
     "data": {
      "text/plain": [
       "(1, 2)"
      ]
     },
     "execution_count": 9,
     "metadata": {},
     "output_type": "execute_result"
    }
   ],
   "source": [
    "t[0:2]"
   ]
  },
  {
   "cell_type": "code",
   "execution_count": 11,
   "id": "a492b065-74e6-450e-8229-6dbd6d8fd361",
   "metadata": {},
   "outputs": [
    {
     "data": {
      "text/plain": [
       "(10, 'str', 2, 1)"
      ]
     },
     "execution_count": 11,
     "metadata": {},
     "output_type": "execute_result"
    }
   ],
   "source": [
    "t[::-1]"
   ]
  },
  {
   "cell_type": "code",
   "execution_count": 13,
   "id": "c7af7bdd-58c2-4269-80c1-b834a3903b13",
   "metadata": {},
   "outputs": [
    {
     "data": {
      "text/plain": [
       "1"
      ]
     },
     "execution_count": 13,
     "metadata": {},
     "output_type": "execute_result"
    }
   ],
   "source": [
    "t[0]"
   ]
  },
  {
   "cell_type": "code",
   "execution_count": 15,
   "id": "49285d89-c8fb-4607-be1a-7f320c249f8c",
   "metadata": {},
   "outputs": [
    {
     "ename": "TypeError",
     "evalue": "'tuple' object does not support item assignment",
     "output_type": "error",
     "traceback": [
      "\u001b[1;31m---------------------------------------------------------------------------\u001b[0m",
      "\u001b[1;31mTypeError\u001b[0m                                 Traceback (most recent call last)",
      "Cell \u001b[1;32mIn[15], line 1\u001b[0m\n\u001b[1;32m----> 1\u001b[0m t[\u001b[38;5;241m0\u001b[39m] \u001b[38;5;241m=\u001b[39m \u001b[38;5;241m10\u001b[39m\n",
      "\u001b[1;31mTypeError\u001b[0m: 'tuple' object does not support item assignment"
     ]
    }
   ],
   "source": [
    "t[0] = 10 # not possible - tuple is imutable"
   ]
  },
  {
   "cell_type": "code",
   "execution_count": 17,
   "id": "85927628-3b97-4f24-b071-6295a1110765",
   "metadata": {},
   "outputs": [],
   "source": [
    "t1 = (10,30,\"ram\")"
   ]
  },
  {
   "cell_type": "code",
   "execution_count": 19,
   "id": "62065fa5-e049-4278-a54e-ff6793f5360f",
   "metadata": {},
   "outputs": [
    {
     "data": {
      "text/plain": [
       "(10, 30, 'ram')"
      ]
     },
     "execution_count": 19,
     "metadata": {},
     "output_type": "execute_result"
    }
   ],
   "source": [
    "t1"
   ]
  },
  {
   "cell_type": "code",
   "execution_count": 21,
   "id": "9717ffff-cc2e-41a5-a4d7-2daf4e7a7b99",
   "metadata": {},
   "outputs": [
    {
     "data": {
      "text/plain": [
       "(1, 2, 'str', 10)"
      ]
     },
     "execution_count": 21,
     "metadata": {},
     "output_type": "execute_result"
    }
   ],
   "source": [
    "t"
   ]
  },
  {
   "cell_type": "code",
   "execution_count": 23,
   "id": "1450eaea-55b4-4a9b-ad69-5077e5ea341f",
   "metadata": {},
   "outputs": [
    {
     "data": {
      "text/plain": [
       "(1, 2, 'str', 10, 10, 30, 'ram')"
      ]
     },
     "execution_count": 23,
     "metadata": {},
     "output_type": "execute_result"
    }
   ],
   "source": [
    "t+t1"
   ]
  },
  {
   "cell_type": "code",
   "execution_count": 25,
   "id": "8308e7fc-675d-46de-8574-15d5fcd7378d",
   "metadata": {},
   "outputs": [
    {
     "data": {
      "text/plain": [
       "(10, 30, 'ram', 10, 30, 'ram')"
      ]
     },
     "execution_count": 25,
     "metadata": {},
     "output_type": "execute_result"
    }
   ],
   "source": [
    "t1*2"
   ]
  },
  {
   "cell_type": "markdown",
   "id": "35981564-ffd3-4175-b26c-feac6d4f493e",
   "metadata": {},
   "source": [
    "tuple function"
   ]
  },
  {
   "cell_type": "code",
   "execution_count": 30,
   "id": "3fff51b2-f43b-41ac-a1ad-8c43e1793eb1",
   "metadata": {},
   "outputs": [
    {
     "data": {
      "text/plain": [
       "1"
      ]
     },
     "execution_count": 30,
     "metadata": {},
     "output_type": "execute_result"
    }
   ],
   "source": [
    "t.count(10) # occurance"
   ]
  },
  {
   "cell_type": "markdown",
   "id": "3cb22de3-8716-4248-872a-975a5ea7e3be",
   "metadata": {},
   "source": [
    "t.index(10)"
   ]
  },
  {
   "cell_type": "code",
   "execution_count": 34,
   "id": "239dd128-e0e2-4d17-ae6a-935afa18de9c",
   "metadata": {},
   "outputs": [],
   "source": [
    "# def of tuple : Immutable and suppose don\\t want to change anything (password or email by users) "
   ]
  },
  {
   "cell_type": "markdown",
   "id": "19e92221-1dbb-439f-a63d-d3b0d35c7bd2",
   "metadata": {},
   "source": [
    "Nested Tuple"
   ]
  },
  {
   "cell_type": "code",
   "execution_count": 39,
   "id": "f4b42398-6bb5-4de7-b370-304a6cee1b54",
   "metadata": {},
   "outputs": [],
   "source": [
    "nt = (1,3,4, (10,20,30), \"ram\")"
   ]
  },
  {
   "cell_type": "code",
   "execution_count": 41,
   "id": "ebe0b0f4-1ba4-4656-b245-5a68a276a5b2",
   "metadata": {},
   "outputs": [
    {
     "data": {
      "text/plain": [
       "(1, 3, 4, (10, 20, 30), 'ram')"
      ]
     },
     "execution_count": 41,
     "metadata": {},
     "output_type": "execute_result"
    }
   ],
   "source": [
    "nt"
   ]
  },
  {
   "cell_type": "code",
   "execution_count": 43,
   "id": "10dafe0a-1428-48d4-9d72-7adb3651063e",
   "metadata": {},
   "outputs": [
    {
     "data": {
      "text/plain": [
       "tuple"
      ]
     },
     "execution_count": 43,
     "metadata": {},
     "output_type": "execute_result"
    }
   ],
   "source": [
    "type(nt)"
   ]
  },
  {
   "cell_type": "code",
   "execution_count": 45,
   "id": "6c321660-88f0-4e2a-9015-3b8840699ded",
   "metadata": {},
   "outputs": [
    {
     "data": {
      "text/plain": [
       "(10, 20, 30)"
      ]
     },
     "execution_count": 45,
     "metadata": {},
     "output_type": "execute_result"
    }
   ],
   "source": [
    "nt[3]"
   ]
  },
  {
   "cell_type": "code",
   "execution_count": 47,
   "id": "87612bc6-4903-4991-99dd-adee4e33dc94",
   "metadata": {},
   "outputs": [
    {
     "data": {
      "text/plain": [
       "20"
      ]
     },
     "execution_count": 47,
     "metadata": {},
     "output_type": "execute_result"
    }
   ],
   "source": [
    "nt[3][1]"
   ]
  },
  {
   "cell_type": "markdown",
   "id": "230e464c-adee-4f63-a46e-d93a100a4d2c",
   "metadata": {},
   "source": [
    "Set"
   ]
  },
  {
   "cell_type": "code",
   "execution_count": 62,
   "id": "ddf841dd-4387-4d87-9dee-fdca536bb354",
   "metadata": {},
   "outputs": [],
   "source": [
    "s = {1,2,5} # unique value can be stored only and it's unordered"
   ]
  },
  {
   "cell_type": "code",
   "execution_count": 52,
   "id": "35d5c602-d956-4592-a2eb-f56c476fab53",
   "metadata": {},
   "outputs": [
    {
     "data": {
      "text/plain": [
       "set"
      ]
     },
     "execution_count": 52,
     "metadata": {},
     "output_type": "execute_result"
    }
   ],
   "source": [
    "type(s)"
   ]
  },
  {
   "cell_type": "code",
   "execution_count": 58,
   "id": "240d0c86-1895-4708-a93e-ba6b2a9e85ec",
   "metadata": {},
   "outputs": [],
   "source": [
    "t = {} # empty set refers to dictionary"
   ]
  },
  {
   "cell_type": "code",
   "execution_count": 60,
   "id": "c259bdd2-858f-4767-ba30-ead214636475",
   "metadata": {},
   "outputs": [
    {
     "data": {
      "text/plain": [
       "dict"
      ]
     },
     "execution_count": 60,
     "metadata": {},
     "output_type": "execute_result"
    }
   ],
   "source": [
    "type(t)"
   ]
  },
  {
   "cell_type": "markdown",
   "id": "c9d69c4d-5ef0-4261-a235-889e521ac2e9",
   "metadata": {},
   "source": [
    "set function"
   ]
  },
  {
   "cell_type": "code",
   "execution_count": 66,
   "id": "dea18ab9-1fb9-471c-a56e-12f60312da75",
   "metadata": {},
   "outputs": [],
   "source": [
    "s.add (234)"
   ]
  },
  {
   "cell_type": "code",
   "execution_count": 68,
   "id": "79debb38-f9b5-4fdc-9ee0-60911259f823",
   "metadata": {},
   "outputs": [
    {
     "data": {
      "text/plain": [
       "{1, 2, 5, 234}"
      ]
     },
     "execution_count": 68,
     "metadata": {},
     "output_type": "execute_result"
    }
   ],
   "source": [
    "s"
   ]
  },
  {
   "cell_type": "code",
   "execution_count": 70,
   "id": "47eb20a1-1f68-42d0-b3df-2f4a7624e58d",
   "metadata": {},
   "outputs": [],
   "source": [
    "s.add((1,2,3,4))"
   ]
  },
  {
   "cell_type": "code",
   "execution_count": 72,
   "id": "f5797694-b1e3-4630-8e22-17ca3aa71472",
   "metadata": {},
   "outputs": [
    {
     "data": {
      "text/plain": [
       "{(1, 2, 3, 4), 1, 2, 234, 5}"
      ]
     },
     "execution_count": 72,
     "metadata": {},
     "output_type": "execute_result"
    }
   ],
   "source": [
    "s"
   ]
  },
  {
   "cell_type": "code",
   "execution_count": 80,
   "id": "fef6e32e-7e3e-40ce-afb5-8fe488c961c7",
   "metadata": {},
   "outputs": [],
   "source": [
    "s.remove(1) # remove the element"
   ]
  },
  {
   "cell_type": "code",
   "execution_count": 82,
   "id": "c445d197-47a4-4017-bed0-66e203ec542f",
   "metadata": {},
   "outputs": [
    {
     "data": {
      "text/plain": [
       "{(1, 2, 3, 4), 234, 5}"
      ]
     },
     "execution_count": 82,
     "metadata": {},
     "output_type": "execute_result"
    }
   ],
   "source": [
    "s"
   ]
  },
  {
   "cell_type": "code",
   "execution_count": 92,
   "id": "c9af1b70-583e-4bf2-a40b-715780f15b19",
   "metadata": {},
   "outputs": [],
   "source": [
    "s1 = {\"Rama\", \"rama\"} # set is case sensitive"
   ]
  },
  {
   "cell_type": "code",
   "execution_count": 94,
   "id": "f28972cb-07bc-47fd-8cfa-89d174b5d990",
   "metadata": {},
   "outputs": [],
   "source": [
    "s1.remove(\"rama\")"
   ]
  },
  {
   "cell_type": "code",
   "execution_count": 96,
   "id": "638ff640-2215-48ae-b497-0eb69d105d71",
   "metadata": {},
   "outputs": [
    {
     "data": {
      "text/plain": [
       "{'Rama'}"
      ]
     },
     "execution_count": 96,
     "metadata": {},
     "output_type": "execute_result"
    }
   ],
   "source": [
    "s1"
   ]
  },
  {
   "cell_type": "markdown",
   "id": "dbf58e25-f04c-4e32-8e0e-607e0f640897",
   "metadata": {},
   "source": [
    "Dict : key and value pair where key will be unqiue and value may be duplicate"
   ]
  },
  {
   "cell_type": "code",
   "execution_count": 99,
   "id": "7f0ab2b6-f5b7-462e-af52-fe2750e19dd8",
   "metadata": {},
   "outputs": [],
   "source": [
    "d = {} "
   ]
  },
  {
   "cell_type": "code",
   "execution_count": 101,
   "id": "07488a50-1dfa-4f94-af96-7be0cdab3345",
   "metadata": {},
   "outputs": [
    {
     "data": {
      "text/plain": [
       "dict"
      ]
     },
     "execution_count": 101,
     "metadata": {},
     "output_type": "execute_result"
    }
   ],
   "source": [
    "type(d)"
   ]
  },
  {
   "cell_type": "code",
   "execution_count": 106,
   "id": "819b2eab-2a12-476e-b9ea-63d5ea1622e1",
   "metadata": {},
   "outputs": [],
   "source": [
    "d = {1,2}"
   ]
  },
  {
   "cell_type": "code",
   "execution_count": 108,
   "id": "26d0f1fa-8159-44b0-8a04-e2a7104b6a27",
   "metadata": {},
   "outputs": [
    {
     "data": {
      "text/plain": [
       "set"
      ]
     },
     "execution_count": 108,
     "metadata": {},
     "output_type": "execute_result"
    }
   ],
   "source": [
    "type(d)"
   ]
  },
  {
   "cell_type": "code",
   "execution_count": 110,
   "id": "e3c51eee-13af-4f0a-a6fe-0420b6bdfca8",
   "metadata": {},
   "outputs": [],
   "source": [
    "d = {1: \"Ritesh\"}"
   ]
  },
  {
   "cell_type": "code",
   "execution_count": 114,
   "id": "0732ede3-2115-465b-b28d-e91e9df4b20f",
   "metadata": {},
   "outputs": [
    {
     "data": {
      "text/plain": [
       "{1: 'Ritesh'}"
      ]
     },
     "execution_count": 114,
     "metadata": {},
     "output_type": "execute_result"
    }
   ],
   "source": [
    "d"
   ]
  },
  {
   "cell_type": "code",
   "execution_count": 116,
   "id": "17aabbfa-f2f5-495c-8ec0-17a739bebe0d",
   "metadata": {},
   "outputs": [
    {
     "data": {
      "text/plain": [
       "'Ritesh'"
      ]
     },
     "execution_count": 116,
     "metadata": {},
     "output_type": "execute_result"
    }
   ],
   "source": [
    "d[1]"
   ]
  },
  {
   "cell_type": "code",
   "execution_count": 134,
   "id": "e9d9a29a-ae80-466a-a22d-847a7828182a",
   "metadata": {},
   "outputs": [],
   "source": [
    "d = {\"k\": [1,2,3,4], \"k2\": (1,2,3)}"
   ]
  },
  {
   "cell_type": "code",
   "execution_count": 136,
   "id": "bc6c1b72-16f6-409c-b41b-eea1623a8bf9",
   "metadata": {},
   "outputs": [
    {
     "data": {
      "text/plain": [
       "{'k': [1, 2, 3, 4], 'k2': (1, 2, 3)}"
      ]
     },
     "execution_count": 136,
     "metadata": {},
     "output_type": "execute_result"
    }
   ],
   "source": [
    "d"
   ]
  },
  {
   "cell_type": "code",
   "execution_count": 142,
   "id": "55440ee4-7f16-44c9-9aff-67c07d31adad",
   "metadata": {},
   "outputs": [
    {
     "ename": "NameError",
     "evalue": "name 'k' is not defined",
     "output_type": "error",
     "traceback": [
      "\u001b[1;31m---------------------------------------------------------------------------\u001b[0m",
      "\u001b[1;31mNameError\u001b[0m                                 Traceback (most recent call last)",
      "Cell \u001b[1;32mIn[142], line 1\u001b[0m\n\u001b[1;32m----> 1\u001b[0m k[\u001b[38;5;241m0\u001b[39m][\u001b[38;5;241m3\u001b[39m] \u001b[38;5;241m=\u001b[39m \u001b[38;5;241m10\u001b[39m\n",
      "\u001b[1;31mNameError\u001b[0m: name 'k' is not defined"
     ]
    }
   ],
   "source": [
    "k[0][3] = 10  #Debug the issue"
   ]
  },
  {
   "cell_type": "markdown",
   "id": "5ce8d2e7-6a42-43eb-97f0-2219140bf544",
   "metadata": {},
   "source": [
    "Function"
   ]
  },
  {
   "cell_type": "code",
   "execution_count": 132,
   "id": "42088834-606c-4416-b513-a24f223b0a2f",
   "metadata": {},
   "outputs": [
    {
     "data": {
      "text/plain": [
       "dict_keys(['k1', 'k2'])"
      ]
     },
     "execution_count": 132,
     "metadata": {},
     "output_type": "execute_result"
    }
   ],
   "source": [
    "d.keys()"
   ]
  },
  {
   "cell_type": "code",
   "execution_count": 145,
   "id": "ed0d0769-0eee-473e-b92d-0176435cbf63",
   "metadata": {},
   "outputs": [
    {
     "data": {
      "text/plain": [
       "dict_values([[1, 2, 3, 4], (1, 2, 3)])"
      ]
     },
     "execution_count": 145,
     "metadata": {},
     "output_type": "execute_result"
    }
   ],
   "source": [
    "d.values()"
   ]
  },
  {
   "cell_type": "code",
   "execution_count": 147,
   "id": "1fbeedca-bca2-408e-864c-a72e1a128154",
   "metadata": {},
   "outputs": [
    {
     "data": {
      "text/plain": [
       "dict_items([('k', [1, 2, 3, 4]), ('k2', (1, 2, 3))])"
      ]
     },
     "execution_count": 147,
     "metadata": {},
     "output_type": "execute_result"
    }
   ],
   "source": [
    "d.items()"
   ]
  },
  {
   "cell_type": "code",
   "execution_count": 149,
   "id": "ffbf8895-1805-4cd8-b7ae-92649be6daef",
   "metadata": {},
   "outputs": [
    {
     "data": {
      "text/plain": [
       "dict_items"
      ]
     },
     "execution_count": 149,
     "metadata": {},
     "output_type": "execute_result"
    }
   ],
   "source": [
    "type(d.items())"
   ]
  },
  {
   "cell_type": "code",
   "execution_count": 151,
   "id": "36aa9a15-aeb3-4647-8425-145aa4e32e1b",
   "metadata": {},
   "outputs": [],
   "source": [
    "d[4] = [1,23,20]"
   ]
  },
  {
   "cell_type": "code",
   "execution_count": 153,
   "id": "4b771647-5054-4fe7-81fc-2e770afcf5dc",
   "metadata": {},
   "outputs": [
    {
     "data": {
      "text/plain": [
       "{'k': [1, 2, 3, 4], 'k2': (1, 2, 3), 4: [1, 23, 20]}"
      ]
     },
     "execution_count": 153,
     "metadata": {},
     "output_type": "execute_result"
    }
   ],
   "source": [
    "d"
   ]
  },
  {
   "cell_type": "code",
   "execution_count": 159,
   "id": "f42e9714-60ad-4ece-8a0c-f12490a3351f",
   "metadata": {},
   "outputs": [],
   "source": [
    "d [ \"key4\"] = \"xyz\"  # if key is not exists, it will create or update"
   ]
  },
  {
   "cell_type": "code",
   "execution_count": 161,
   "id": "9615b589-7a7e-4751-aa07-11677d2995e9",
   "metadata": {},
   "outputs": [
    {
     "data": {
      "text/plain": [
       "{'k': [1, 2, 3, 4], 'k2': (1, 2, 3), 4: [1, 23, 20], 'key4': 'xyz'}"
      ]
     },
     "execution_count": 161,
     "metadata": {},
     "output_type": "execute_result"
    }
   ],
   "source": [
    "d"
   ]
  },
  {
   "cell_type": "code",
   "execution_count": 165,
   "id": "0cd7bb33-23aa-4395-a08b-176fbfeaa518",
   "metadata": {},
   "outputs": [],
   "source": [
    "del d[\"key4\"]"
   ]
  },
  {
   "cell_type": "code",
   "execution_count": 167,
   "id": "8b3075dd-3c90-4b0f-9e0c-0a3bd10960ae",
   "metadata": {},
   "outputs": [
    {
     "data": {
      "text/plain": [
       "{'k': [1, 2, 3, 4], 'k2': (1, 2, 3), 4: [1, 23, 20]}"
      ]
     },
     "execution_count": 167,
     "metadata": {},
     "output_type": "execute_result"
    }
   ],
   "source": [
    "d"
   ]
  },
  {
   "cell_type": "code",
   "execution_count": 173,
   "id": "a49e9eb4-480c-4191-b7fc-3da19c902018",
   "metadata": {},
   "outputs": [],
   "source": [
    "d [list] = [1,2,3]"
   ]
  },
  {
   "cell_type": "code",
   "execution_count": 175,
   "id": "8973baf7-de45-4764-8bab-4d1096a5504d",
   "metadata": {},
   "outputs": [
    {
     "data": {
      "text/plain": [
       "{'k': [1, 2, 3, 4], 'k2': (1, 2, 3), 4: [1, 23, 20], list: [1, 2, 3]}"
      ]
     },
     "execution_count": 175,
     "metadata": {},
     "output_type": "execute_result"
    }
   ],
   "source": [
    "d"
   ]
  },
  {
   "cell_type": "code",
   "execution_count": null,
   "id": "b13b2446-07eb-4f85-9e92-a684b1bfe669",
   "metadata": {},
   "outputs": [],
   "source": [
    "t = (1,2,3)"
   ]
  },
  {
   "cell_type": "code",
   "execution_count": 179,
   "id": "c79195b3-fe53-44aa-9b2e-78f8e2ce84b8",
   "metadata": {},
   "outputs": [
    {
     "ename": "TypeError",
     "evalue": "unhashable type: 'dict'",
     "output_type": "error",
     "traceback": [
      "\u001b[1;31m---------------------------------------------------------------------------\u001b[0m",
      "\u001b[1;31mTypeError\u001b[0m                                 Traceback (most recent call last)",
      "Cell \u001b[1;32mIn[179], line 1\u001b[0m\n\u001b[1;32m----> 1\u001b[0m d[(t)]\n",
      "\u001b[1;31mTypeError\u001b[0m: unhashable type: 'dict'"
     ]
    }
   ],
   "source": [
    "d[(t)] # unhashable "
   ]
  },
  {
   "cell_type": "code",
   "execution_count": 183,
   "id": "1fc178a3-4274-4bf7-9d80-96eaa94443df",
   "metadata": {},
   "outputs": [
    {
     "data": {
      "text/plain": [
       "[1, 2, 3, 4]"
      ]
     },
     "execution_count": 183,
     "metadata": {},
     "output_type": "execute_result"
    }
   ],
   "source": [
    "d.get(\"k\")"
   ]
  },
  {
   "cell_type": "code",
   "execution_count": 227,
   "id": "5a373923-9651-4c0c-a68b-0dc0bb590bf9",
   "metadata": {},
   "outputs": [],
   "source": [
    "d = {'k': [1, 2, 3, 4], 'k2': (1, 2, 3), 4: [1, 23, 20]}"
   ]
  },
  {
   "cell_type": "code",
   "execution_count": 229,
   "id": "36e22a05-28dd-4c84-83d2-6cdcc59b7949",
   "metadata": {},
   "outputs": [
    {
     "data": {
      "text/plain": [
       "{'k': [1, 2, 3, 4], 'k2': (1, 2, 3), 4: [1, 23, 20]}"
      ]
     },
     "execution_count": 229,
     "metadata": {},
     "output_type": "execute_result"
    }
   ],
   "source": [
    "d"
   ]
  },
  {
   "cell_type": "code",
   "execution_count": 221,
   "id": "94028b56-ae46-4dcf-a416-710fc711fb5e",
   "metadata": {},
   "outputs": [],
   "source": [
    "d1 = {\"a1\":100, \"a2\":\"Rama\", \"a3\":20, \"a4\": (1,2,4)}"
   ]
  },
  {
   "cell_type": "code",
   "execution_count": 231,
   "id": "d6ea38f5-663a-4e7b-bfc9-0970799304f2",
   "metadata": {},
   "outputs": [
    {
     "data": {
      "text/plain": [
       "{'a1': 100, 'a2': 'Rama', 'a3': 20, 'a4': (1, 2, 4)}"
      ]
     },
     "execution_count": 231,
     "metadata": {},
     "output_type": "execute_result"
    }
   ],
   "source": [
    "d1"
   ]
  },
  {
   "cell_type": "code",
   "execution_count": 235,
   "id": "00bad47e-7507-46a0-a55d-c7df248d98c7",
   "metadata": {},
   "outputs": [
    {
     "ename": "TypeError",
     "evalue": "unsupported operand type(s) for +: 'dict' and 'dict'",
     "output_type": "error",
     "traceback": [
      "\u001b[1;31m---------------------------------------------------------------------------\u001b[0m",
      "\u001b[1;31mTypeError\u001b[0m                                 Traceback (most recent call last)",
      "Cell \u001b[1;32mIn[235], line 1\u001b[0m\n\u001b[1;32m----> 1\u001b[0m d\u001b[38;5;241m+\u001b[39md1\n",
      "\u001b[1;31mTypeError\u001b[0m: unsupported operand type(s) for +: 'dict' and 'dict'"
     ]
    }
   ],
   "source": [
    "d + d1 # unsupported operation    "
   ]
  },
  {
   "cell_type": "code",
   "execution_count": 241,
   "id": "8b3824d4-2b74-4651-9fa3-5eb4b84c66de",
   "metadata": {},
   "outputs": [
    {
     "data": {
      "text/plain": [
       "{'a': None, '1': None}"
      ]
     },
     "execution_count": 241,
     "metadata": {},
     "output_type": "execute_result"
    }
   ],
   "source": [
    "d1.fromkeys(\"a1\") #understand this func"
   ]
  },
  {
   "cell_type": "code",
   "execution_count": null,
   "id": "dc48e29b-10f0-4152-8782-9cf7264a2b88",
   "metadata": {},
   "outputs": [],
   "source": []
  }
 ],
 "metadata": {
  "kernelspec": {
   "display_name": "Python 3 (ipykernel)",
   "language": "python",
   "name": "python3"
  },
  "language_info": {
   "codemirror_mode": {
    "name": "ipython",
    "version": 3
   },
   "file_extension": ".py",
   "mimetype": "text/x-python",
   "name": "python",
   "nbconvert_exporter": "python",
   "pygments_lexer": "ipython3",
   "version": "3.11.7"
  }
 },
 "nbformat": 4,
 "nbformat_minor": 5
}
